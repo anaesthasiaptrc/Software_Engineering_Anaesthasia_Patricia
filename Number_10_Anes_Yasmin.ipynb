{
  "nbformat": 4,
  "nbformat_minor": 0,
  "metadata": {
    "colab": {
      "name": "Number 10_Anes_Yasmin.ipynb",
      "provenance": []
    },
    "kernelspec": {
      "name": "python3",
      "display_name": "Python 3"
    },
    "language_info": {
      "name": "python"
    }
  },
  "cells": [
    {
      "cell_type": "code",
      "metadata": {
        "id": "JnwRL3dWCFOj",
        "colab": {
          "base_uri": "https://localhost:8080/"
        },
        "outputId": "bcf1ecb0-bde1-4d61-ed97-1e1a5209e113"
      },
      "source": [
        "a = 0\n",
        "for i in range(1,101):\n",
        "  a += i**2\n",
        "print(a)\n",
        "\n",
        "b = 0\n",
        "for i in range(1,101):\n",
        " b += i\n",
        "b = b ** 2\n",
        "print(b)\n",
        "\n",
        "sub = a - b\n",
        "\n",
        "print(sub)"
      ],
      "execution_count": 4,
      "outputs": [
        {
          "output_type": "stream",
          "name": "stdout",
          "text": [
            "338350\n",
            "25502500\n",
            "-25164150\n"
          ]
        }
      ]
    }
  ]
}