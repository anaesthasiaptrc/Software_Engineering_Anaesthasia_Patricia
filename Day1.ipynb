{
  "nbformat": 4,
  "nbformat_minor": 0,
  "metadata": {
    "colab": {
      "name": "Day1.ipynb",
      "provenance": []
    },
    "kernelspec": {
      "name": "python3",
      "display_name": "Python 3"
    },
    "language_info": {
      "name": "python"
    }
  },
  "cells": [
    {
      "cell_type": "code",
      "metadata": {
        "id": "dHpL_YclFLaN"
      },
      "source": [
        "a = 19 #int\n",
        "b = 2.50 #float\n",
        "c = \"D\" #string\n",
        "d = 'Anes' #string\n",
        "e = True #boolean\n",
        "f = False #boolean\n",
        "g = [] #list\n",
        "h = {} #dictionary\n",
        "i = () #tuple\n",
        "\n",
        "#Note: boolean harus diawali huruf kapital"
      ],
      "execution_count": 1,
      "outputs": []
    },
    {
      "cell_type": "code",
      "metadata": {
        "colab": {
          "base_uri": "https://localhost:8080/"
        },
        "id": "YK_PA2hxFTUV",
        "outputId": "d748d35e-a4c8-4af7-ebae-0367cd8615bc"
      },
      "source": [
        "print(\"helooooo\")\n",
        "print('helooooo')"
      ],
      "execution_count": 2,
      "outputs": [
        {
          "output_type": "stream",
          "name": "stdout",
          "text": [
            "helooooo\n",
            "helooooo\n"
          ]
        }
      ]
    },
    {
      "cell_type": "code",
      "metadata": {
        "colab": {
          "base_uri": "https://localhost:8080/"
        },
        "id": "5OSmBkDyFV3F",
        "outputId": "c2cd5f08-d463-4f6d-806d-a6aab1e2b8c5"
      },
      "source": [
        "print('1+3')"
      ],
      "execution_count": 3,
      "outputs": [
        {
          "output_type": "stream",
          "name": "stdout",
          "text": [
            "1+3\n"
          ]
        }
      ]
    },
    {
      "cell_type": "code",
      "metadata": {
        "colab": {
          "base_uri": "https://localhost:8080/"
        },
        "id": "MU6AJnEEFcSP",
        "outputId": "0dbef571-8f1f-4079-ce72-10e8b879a16e"
      },
      "source": [
        "print(1+3)"
      ],
      "execution_count": 4,
      "outputs": [
        {
          "output_type": "stream",
          "name": "stdout",
          "text": [
            "4\n"
          ]
        }
      ]
    },
    {
      "cell_type": "code",
      "metadata": {
        "colab": {
          "base_uri": "https://localhost:8080/"
        },
        "id": "5mfi1OzkFgLT",
        "outputId": "a14919c1-c992-4e5e-f26c-205a19247789"
      },
      "source": [
        "print(\"Hi my name is {}\".format(d))"
      ],
      "execution_count": 5,
      "outputs": [
        {
          "output_type": "stream",
          "name": "stdout",
          "text": [
            "Hi my name is Anes\n"
          ]
        }
      ]
    },
    {
      "cell_type": "code",
      "metadata": {
        "colab": {
          "base_uri": "https://localhost:8080/",
          "height": 172
        },
        "id": "E9d3pTFnFkfU",
        "outputId": "40c867bf-527a-49bc-ec12-96b86608b483"
      },
      "source": [
        "print(\"Number: \" + a)"
      ],
      "execution_count": 6,
      "outputs": [
        {
          "output_type": "error",
          "ename": "TypeError",
          "evalue": "ignored",
          "traceback": [
            "\u001b[0;31m---------------------------------------------------------------------------\u001b[0m",
            "\u001b[0;31mTypeError\u001b[0m                                 Traceback (most recent call last)",
            "\u001b[0;32m<ipython-input-6-a76d7342fa03>\u001b[0m in \u001b[0;36m<module>\u001b[0;34m()\u001b[0m\n\u001b[0;32m----> 1\u001b[0;31m \u001b[0mprint\u001b[0m\u001b[0;34m(\u001b[0m\u001b[0;34m\"Number: \"\u001b[0m \u001b[0;34m+\u001b[0m \u001b[0ma\u001b[0m\u001b[0;34m)\u001b[0m\u001b[0;34m\u001b[0m\u001b[0;34m\u001b[0m\u001b[0m\n\u001b[0m",
            "\u001b[0;31mTypeError\u001b[0m: can only concatenate str (not \"int\") to str"
          ]
        }
      ]
    },
    {
      "cell_type": "code",
      "metadata": {
        "colab": {
          "base_uri": "https://localhost:8080/"
        },
        "id": "HGoiypNFFneq",
        "outputId": "de8ea986-4735-427e-bdbd-72024be2fb35"
      },
      "source": [
        "print(\"Number: \" + str(a))"
      ],
      "execution_count": 7,
      "outputs": [
        {
          "output_type": "stream",
          "name": "stdout",
          "text": [
            "Number: 19\n"
          ]
        }
      ]
    },
    {
      "cell_type": "code",
      "metadata": {
        "colab": {
          "base_uri": "https://localhost:8080/"
        },
        "id": "V2Z3q8DtFqwJ",
        "outputId": "c122df85-12a4-4c4e-cb2b-85216127bb60"
      },
      "source": [
        "print(\"Number: {}\".format(a))"
      ],
      "execution_count": 8,
      "outputs": [
        {
          "output_type": "stream",
          "name": "stdout",
          "text": [
            "Number: 19\n"
          ]
        }
      ]
    },
    {
      "cell_type": "code",
      "metadata": {
        "colab": {
          "base_uri": "https://localhost:8080/"
        },
        "id": "gfe44vvLFuJt",
        "outputId": "48edb28a-ff49-498e-cc84-b35016fc6b95"
      },
      "source": [
        "print(\"Namaku {}, Umurku {}, dan aku orang Bandung {}\".format(d,a,f))"
      ],
      "execution_count": 9,
      "outputs": [
        {
          "output_type": "stream",
          "name": "stdout",
          "text": [
            "Namaku Anes, Umurku 19, dan aku orang Bandung False\n"
          ]
        }
      ]
    },
    {
      "cell_type": "code",
      "metadata": {
        "id": "9JdbQpY9GCfN"
      },
      "source": [
        "Bedroom = [\"Bed\", 5, True, 10.2, ['Bantal', 'Parfum', 'Meja'], {\"Buku\":\"Novel\"}]"
      ],
      "execution_count": 10,
      "outputs": []
    },
    {
      "cell_type": "code",
      "metadata": {
        "colab": {
          "base_uri": "https://localhost:8080/"
        },
        "id": "n66qYkscGIgw",
        "outputId": "e6ff880c-3204-465a-e76e-e71da59de873"
      },
      "source": [
        "Bedroom"
      ],
      "execution_count": 11,
      "outputs": [
        {
          "output_type": "execute_result",
          "data": {
            "text/plain": [
              "['Bed', 5, True, 10.2, ['Bantal', 'Parfum', 'Meja'], {'Buku': 'Novel'}]"
            ]
          },
          "metadata": {},
          "execution_count": 11
        }
      ]
    },
    {
      "cell_type": "code",
      "metadata": {
        "colab": {
          "base_uri": "https://localhost:8080/",
          "height": 172
        },
        "id": "y3RTgSVfGTMi",
        "outputId": "7407f185-5643-4792-b54c-6a80b3aa967f"
      },
      "source": [
        "bedroom"
      ],
      "execution_count": 12,
      "outputs": [
        {
          "output_type": "error",
          "ename": "NameError",
          "evalue": "ignored",
          "traceback": [
            "\u001b[0;31m---------------------------------------------------------------------------\u001b[0m",
            "\u001b[0;31mNameError\u001b[0m                                 Traceback (most recent call last)",
            "\u001b[0;32m<ipython-input-12-333384fdbce1>\u001b[0m in \u001b[0;36m<module>\u001b[0;34m()\u001b[0m\n\u001b[0;32m----> 1\u001b[0;31m \u001b[0mbedroom\u001b[0m\u001b[0;34m\u001b[0m\u001b[0;34m\u001b[0m\u001b[0m\n\u001b[0m",
            "\u001b[0;31mNameError\u001b[0m: name 'bedroom' is not defined"
          ]
        }
      ]
    },
    {
      "cell_type": "code",
      "metadata": {
        "colab": {
          "base_uri": "https://localhost:8080/"
        },
        "id": "73dB6JDrGVhi",
        "outputId": "aa5220b2-f245-4ad0-fc29-cf7c09ea51f7"
      },
      "source": [
        "print(Bedroom)"
      ],
      "execution_count": 13,
      "outputs": [
        {
          "output_type": "stream",
          "name": "stdout",
          "text": [
            "['Bed', 5, True, 10.2, ['Bantal', 'Parfum', 'Meja'], {'Buku': 'Novel'}]\n"
          ]
        }
      ]
    },
    {
      "cell_type": "code",
      "metadata": {
        "colab": {
          "base_uri": "https://localhost:8080/"
        },
        "id": "yZ0n5vOwGdg8",
        "outputId": "080e2614-8492-4676-b7c3-2d83cb7979d3"
      },
      "source": [
        "Bedroom[2:5]"
      ],
      "execution_count": 14,
      "outputs": [
        {
          "output_type": "execute_result",
          "data": {
            "text/plain": [
              "[True, 10.2, ['Bantal', 'Parfum', 'Meja']]"
            ]
          },
          "metadata": {},
          "execution_count": 14
        }
      ]
    },
    {
      "cell_type": "code",
      "metadata": {
        "colab": {
          "base_uri": "https://localhost:8080/"
        },
        "id": "yfcfSCxlGgJ0",
        "outputId": "2ccfb77e-d102-4bdf-9c7f-1f5809f61d09"
      },
      "source": [
        "Bedroom[-2]"
      ],
      "execution_count": 15,
      "outputs": [
        {
          "output_type": "execute_result",
          "data": {
            "text/plain": [
              "['Bantal', 'Parfum', 'Meja']"
            ]
          },
          "metadata": {},
          "execution_count": 15
        }
      ]
    },
    {
      "cell_type": "code",
      "metadata": {
        "colab": {
          "base_uri": "https://localhost:8080/",
          "height": 36
        },
        "id": "wWSQDuqTGjsn",
        "outputId": "aa217ec7-6d73-4dbe-c7f9-34e283aa1771"
      },
      "source": [
        "Bedroom[4][1]"
      ],
      "execution_count": 16,
      "outputs": [
        {
          "output_type": "execute_result",
          "data": {
            "application/vnd.google.colaboratory.intrinsic+json": {
              "type": "string"
            },
            "text/plain": [
              "'Parfum'"
            ]
          },
          "metadata": {},
          "execution_count": 16
        }
      ]
    },
    {
      "cell_type": "code",
      "metadata": {
        "colab": {
          "base_uri": "https://localhost:8080/"
        },
        "id": "vw74TqBYGm-D",
        "outputId": "f256388f-5b6d-4fe3-c9c4-10b38d1d56d7"
      },
      "source": [
        "Bedroom[0:5:2]"
      ],
      "execution_count": 17,
      "outputs": [
        {
          "output_type": "execute_result",
          "data": {
            "text/plain": [
              "['Bed', True, ['Bantal', 'Parfum', 'Meja']]"
            ]
          },
          "metadata": {},
          "execution_count": 17
        }
      ]
    },
    {
      "cell_type": "code",
      "metadata": {
        "colab": {
          "base_uri": "https://localhost:8080/",
          "height": 36
        },
        "id": "YSnsRErBGu95",
        "outputId": "f7fe54ce-a404-44ce-dc8f-4a1fd7a1c7a6"
      },
      "source": [
        "Bedroom[-1][\"Buku\"]"
      ],
      "execution_count": 18,
      "outputs": [
        {
          "output_type": "execute_result",
          "data": {
            "application/vnd.google.colaboratory.intrinsic+json": {
              "type": "string"
            },
            "text/plain": [
              "'Novel'"
            ]
          },
          "metadata": {},
          "execution_count": 18
        }
      ]
    },
    {
      "cell_type": "code",
      "metadata": {
        "id": "l5aAvlzfG2Rs"
      },
      "source": [
        "Dict = {\"Anes\":True}"
      ],
      "execution_count": 19,
      "outputs": []
    },
    {
      "cell_type": "code",
      "metadata": {
        "colab": {
          "base_uri": "https://localhost:8080/"
        },
        "id": "kwr6MilNHBEr",
        "outputId": "a0d343ad-5edf-479c-9681-cab84604950f"
      },
      "source": [
        "print(Dict)"
      ],
      "execution_count": 20,
      "outputs": [
        {
          "output_type": "stream",
          "name": "stdout",
          "text": [
            "{'Anes': True}\n"
          ]
        }
      ]
    },
    {
      "cell_type": "code",
      "metadata": {
        "colab": {
          "base_uri": "https://localhost:8080/"
        },
        "id": "WRQ8hCdgHD4j",
        "outputId": "8a36991e-0e01-4de7-e46d-94fe4d753995"
      },
      "source": [
        "Dict[\"Anes\"]"
      ],
      "execution_count": 21,
      "outputs": [
        {
          "output_type": "execute_result",
          "data": {
            "text/plain": [
              "True"
            ]
          },
          "metadata": {},
          "execution_count": 21
        }
      ]
    },
    {
      "cell_type": "code",
      "metadata": {
        "id": "ue5C9l_IHLu5"
      },
      "source": [
        "Bts= [\"RM\", \"Jin\", \"SUGA\", \"j-Hope\", \"Jimin\", \"V\", \"Jungkook\"]"
      ],
      "execution_count": 22,
      "outputs": []
    },
    {
      "cell_type": "code",
      "metadata": {
        "colab": {
          "base_uri": "https://localhost:8080/"
        },
        "id": "KGOx0l85HOg9",
        "outputId": "cb9ad7ea-92f6-4712-ef4f-802fbd7f58f2"
      },
      "source": [
        "print(\"{}\".format(Bts))"
      ],
      "execution_count": 23,
      "outputs": [
        {
          "output_type": "stream",
          "name": "stdout",
          "text": [
            "['RM', 'Jin', 'SUGA', 'j-Hope', 'Jimin', 'V', 'Jungkook']\n"
          ]
        }
      ]
    },
    {
      "cell_type": "code",
      "metadata": {
        "colab": {
          "base_uri": "https://localhost:8080/"
        },
        "id": "5Rz-C_b8HT0L",
        "outputId": "294793ab-2654-4052-db6e-45ebe06caa37"
      },
      "source": [
        "print(\"{}\".format(Bts[1:6]))"
      ],
      "execution_count": 24,
      "outputs": [
        {
          "output_type": "stream",
          "name": "stdout",
          "text": [
            "['Jin', 'SUGA', 'j-Hope', 'Jimin', 'V']\n"
          ]
        }
      ]
    },
    {
      "cell_type": "code",
      "metadata": {
        "colab": {
          "base_uri": "https://localhost:8080/"
        },
        "id": "sWkE8xRPHXYF",
        "outputId": "6c4ad193-f441-48e6-d1e7-7c119e80985d"
      },
      "source": [
        "print(\"{}\".format(Bts[1:6:2]))"
      ],
      "execution_count": 25,
      "outputs": [
        {
          "output_type": "stream",
          "name": "stdout",
          "text": [
            "['Jin', 'j-Hope', 'V']\n"
          ]
        }
      ]
    },
    {
      "cell_type": "code",
      "metadata": {
        "colab": {
          "base_uri": "https://localhost:8080/"
        },
        "id": "3geoDoxNHZ8S",
        "outputId": "9b2051ac-8984-4776-b9de-6731e404e0ea"
      },
      "source": [
        "print(\"{}\".format(Bts[0:7:2]))"
      ],
      "execution_count": 26,
      "outputs": [
        {
          "output_type": "stream",
          "name": "stdout",
          "text": [
            "['RM', 'SUGA', 'Jimin', 'Jungkook']\n"
          ]
        }
      ]
    }
  ]
}